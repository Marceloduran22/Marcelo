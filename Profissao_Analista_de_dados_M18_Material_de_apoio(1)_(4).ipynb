{
  "nbformat": 4,
  "nbformat_minor": 0,
  "metadata": {
    "colab": {
      "provenance": [],
      "toc_visible": true
    },
    "kernelspec": {
      "name": "python3",
      "display_name": "Python 3"
    }
  },
  "cells": [
    {
      "cell_type": "markdown",
      "metadata": {
        "id": "KJqp9AANOCtf"
      },
      "source": [
        "<img src=\"https://raw.githubusercontent.com/andre-marcos-perez/ebac-course-utils/main/media/logo/newebac_logo_black_half.png\" alt=\"ebac-logo\">\n",
        "\n",
        "---\n",
        "\n",
        "# **Módulo** | Análise de Dados: Controle de Versão II\n",
        "Caderno de **Aula**<br>\n",
        "Professor [André Perez](https://www.linkedin.com/in/andremarcosperez/)\n",
        "\n",
        "---"
      ]
    },
    {
      "cell_type": "markdown",
      "metadata": {
        "id": "d9jDtUbDOE1-"
      },
      "source": [
        "# **Tópicos**\n",
        "\n",
        "<ol type=\"1\">\n",
        "  <li>Adicionar e salvar;</li>\n",
        "  <li>Visualizar e reverter;</li>\n",
        "  <li>Persistir e atualizar.</li>\n",
        "</ol>"
      ]
    },
    {
      "cell_type": "markdown",
      "metadata": {
        "id": "SmoHgt-lwkpD"
      },
      "source": [
        "---"
      ]
    },
    {
      "cell_type": "markdown",
      "metadata": {
        "id": "GABI6OW8OfQ2"
      },
      "source": [
        "# **Aulas**"
      ]
    },
    {
      "cell_type": "markdown",
      "metadata": {
        "id": "kzRDceCvkFj2"
      },
      "source": [
        "## 0\\. Setup"
      ]
    },
    {
      "cell_type": "markdown",
      "metadata": {
        "id": "HrTLgE0tki6P"
      },
      "source": [
        "### **0.1. Autenticação**"
      ]
    },
    {
      "cell_type": "code",
      "metadata": {
        "id": "IwTTh4VKkdKN"
      },
      "source": [
        "import os\n",
        "\n",
        "username = \"andre-marcos-perez\"\n",
        "os.environ[\"GITHUB_USER\"] = username\n",
        "\n",
        "!git config --global user.name \"${GITHUB_USER}\""
      ],
      "execution_count": 1,
      "outputs": []
    },
    {
      "cell_type": "code",
      "metadata": {
        "id": "8gt4Y28skdKO"
      },
      "source": [
        "import os\n",
        "from getpass import getpass\n",
        "\n",
        "usermail = getpass()\n",
        "os.environ[\"GITHUB_MAIL\"] = usermail\n",
        "\n",
        "!git config --global user.email \"${GITHUB_MAIL}\""
      ],
      "execution_count": null,
      "outputs": []
    },
    {
      "cell_type": "code",
      "metadata": {
        "id": "BS6vMNnCkdKO"
      },
      "source": [
        "import os\n",
        "from getpass import getpass\n",
        "\n",
        "usertoken = getpass()\n",
        "os.environ[\"GITHUB_TOKEN\"] = usertoken"
      ],
      "execution_count": null,
      "outputs": []
    },
    {
      "cell_type": "markdown",
      "metadata": {
        "id": "TTh7w8rgkznY"
      },
      "source": [
        "### **0.2. Projeto**"
      ]
    },
    {
      "cell_type": "code",
      "metadata": {
        "id": "fohdVuLzkdKP"
      },
      "source": [
        "!git clone https://github.com/Marceloduran22/Marcelo"
      ],
      "execution_count": null,
      "outputs": []
    },
    {
      "cell_type": "code",
      "metadata": {
        "id": "5-FAaAQXkdKP"
      },
      "source": [
        "%cd /content/Marcelo/"
      ],
      "execution_count": null,
      "outputs": []
    },
    {
      "cell_type": "markdown",
      "source": [
        "Preço da gasolina\n",
        "\n",
        "\n",
        "\n",
        "O código abaixo gera um arquivo com o preço médio de venda da gasolina na cidade de São Paulo nos 10 primeiros dias de Julho de 2021.\n"
      ],
      "metadata": {
        "id": "A6VxA_NgE-bf"
      }
    },
    {
      "cell_type": "code",
      "source": [
        "%%writefile gasolina.csv\n",
        "dia,venda\n",
        "1,5.11\n",
        "2,4.99\n",
        "3,5.02\n",
        "4,5.21\n",
        "5,5.07\n",
        "6,5.09\n",
        "7,5.13\n",
        "8,5.12\n",
        "9,4.94\n",
        "10,5.03"
      ],
      "metadata": {
        "id": "OK20mJxyFFIa"
      },
      "execution_count": null,
      "outputs": []
    },
    {
      "cell_type": "markdown",
      "source": [
        " Desenvolvimento\n",
        "\n",
        "Gere uma gráfico de linha utilizando os dados do arquivo gasolina.csv com o dia no eixo x e o seu preço no eixo y utilizando os pacotes Python de sua preferência, como o Pandas e o Seaborn. Salve o gráfico no arquivo gasolina.png e o seu código Python de geração no arquivo gasolina.py.\n"
      ],
      "metadata": {
        "id": "Lm_QpAwIFQvu"
      }
    },
    {
      "cell_type": "code",
      "source": [
        "%%writefile gasolina.py\n",
        "# código de geração do gráfico #nildomuniz\n",
        "import pandas as pd\n",
        "import seaborn as sns\n",
        "\n",
        "dados_gasolina = pd.read_csv('gasolina.csv')\n",
        "\n",
        "with sns.axes_style('darkgrid'):\n",
        "  grafico_gasolina = sns.lineplot(\n",
        "      x = 'dia',\n",
        "      y = 'venda',\n",
        "      data = dados_gasolina\n",
        "  )\n",
        "\n",
        "  grafico_gasolina.set(\n",
        "      title = 'Preço médio de venda de gasolina na cidade de São Paulo',\n",
        "      xlabel = 'Dia',\n",
        "      ylabel = 'Preço (R$)'\n",
        "  )\n",
        "\n",
        "  figura = grafico_gasolina.get_figure()\n",
        "  figura.savefig('gasolina.png', dpi=600)"
      ],
      "metadata": {
        "id": "6TNqqNPUFRqE"
      },
      "execution_count": null,
      "outputs": []
    },
    {
      "cell_type": "markdown",
      "source": [
        "Git\n",
        "\n",
        "Utilizando os comandos do git, adicione e \"commite\" os arquivos gerados (base, código Python e gráfico).\n"
      ],
      "metadata": {
        "id": "M8Fl-4cqFaG_"
      }
    },
    {
      "cell_type": "code",
      "source": [
        "!git add gasolina.csv gasolina.py"
      ],
      "metadata": {
        "id": "tRfy2JMIFbgN"
      },
      "execution_count": null,
      "outputs": []
    },
    {
      "cell_type": "code",
      "source": [
        "!git commit -m \"Arquivos gerados: base de dados (gasolina.csv), gasolina.py e gasolina.png\""
      ],
      "metadata": {
        "id": "G7FMhV9QFcDO"
      },
      "execution_count": null,
      "outputs": []
    },
    {
      "cell_type": "code",
      "source": [
        "\n",
        "\n",
        "!git status\n",
        "\n"
      ],
      "metadata": {
        "id": "eb5grpVhFhvo"
      },
      "execution_count": null,
      "outputs": []
    },
    {
      "cell_type": "markdown",
      "source": [
        "Github\n",
        "\n",
        "Utilizando os comandos do git, envie o seu commit para o GitHub.\n"
      ],
      "metadata": {
        "id": "LWDAxYqmFn6T"
      }
    },
    {
      "cell_type": "code",
      "source": [
        "\n",
        "\n",
        "!git push origin main\n",
        "\n"
      ],
      "metadata": {
        "id": "p5YlKvBuFpz3"
      },
      "execution_count": null,
      "outputs": []
    },
    {
      "cell_type": "markdown",
      "source": [
        "Arquivo README.md\n",
        "\n",
        "O arquivo README.md é a porta de entrada do seu projeto, é ele que será renderizado quando o seu projeto for acessado, portanto, é importante que ele esteja bem escrito. Alguns exemplos:\n",
        "\n",
        "    Pandas;\n",
        "    Seaborn;\n",
        "    Spark Cluster on Docker\n",
        "\n",
        "3.1. Desenvolvimento\n",
        "\n",
        "Altere o arquivo README.md com informações sobre seu repositório, inclua um título e uma breve descrição do repositório (no mínimo).\n",
        "\n",
        "    Dica: o README.md pode ser configurado utilizando o padrão markdown, o mesmo que utilizamos nas células de texto aqui no Google Colab.\n",
        "\n",
        "3.2. Git\n",
        "\n",
        "Utilizando os comandos do git, adicione e \"commite\" as alterações no arquivo README.md.\n"
      ],
      "metadata": {
        "id": "najcSBFQFxBx"
      }
    },
    {
      "cell_type": "code",
      "source": [
        "%%writefile README.md\n",
        "# ebac-Marcelo-exe\n",
        "\n",
        "Reposiório destinado ao exercício do módulo 18 do *curso* **Analista de Dados** da **EBAC**.\n",
        "O objetivo deste repositório é práticar o uso do Git e também do Github no versionamento de cógio.\n",
        "Para isso, a ativiade constou nas seguintes etapas:\n",
        "\n",
        "1.  Criação do repositório `ebac-module-18-exe` no **Github**;\n",
        "2.  Autenticação e configurações das credenciais **Git**;\n",
        "3.  Clonagem do respositório **Github**;\n",
        "4.  Criação do **script Python** para leitura da base de dados `gasolina.csv` e posterior plotagem de um gráfico de lihas, a ser exportado no formato **png**.\n",
        "5.  Adição dos arquivos no **repositório local** (com `git add` e `git commit`);\n",
        "6.  Empurar os arquivos do **repositório local** para o **repositório remoto (*Github*)**\n",
        ""
      ],
      "metadata": {
        "id": "wUU_lMNNF0l6"
      },
      "execution_count": null,
      "outputs": []
    },
    {
      "cell_type": "code",
      "source": [
        "# comandos git para adicionar e commitar os arquivos\n",
        "!git add README.md\n",
        "!git commit -m \"Arquivo Readme atualizado\""
      ],
      "metadata": {
        "id": "mA4U5hdIGADh"
      },
      "execution_count": null,
      "outputs": []
    },
    {
      "cell_type": "markdown",
      "source": [
        "Checagem"
      ],
      "metadata": {
        "id": "_IxW_5A0GByB"
      }
    },
    {
      "cell_type": "code",
      "source": [
        "\n",
        "\n",
        "!git log --oneline\n",
        "\n"
      ],
      "metadata": {
        "id": "zwYNm4BHGD_m"
      },
      "execution_count": null,
      "outputs": []
    },
    {
      "cell_type": "code",
      "source": [
        "\n",
        "\n",
        "!git status\n",
        "\n"
      ],
      "metadata": {
        "id": "AEhjBGTeGFVF"
      },
      "execution_count": null,
      "outputs": []
    },
    {
      "cell_type": "markdown",
      "source": [
        "Github\n",
        "\n",
        "Utilizando os comandos do git, envie o seu commit para o GitHub.\n"
      ],
      "metadata": {
        "id": "HuZxFIlhGHp1"
      }
    },
    {
      "cell_type": "code",
      "source": [
        "\n",
        "\n",
        "!git push origin main\n",
        "\n"
      ],
      "metadata": {
        "id": "xVobwbgQGKGy"
      },
      "execution_count": null,
      "outputs": []
    }
  ]
}